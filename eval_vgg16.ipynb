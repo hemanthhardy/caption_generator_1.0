{
 "cells": [
  {
   "cell_type": "code",
   "execution_count": 1,
   "metadata": {},
   "outputs": [
    {
     "name": "stderr",
     "output_type": "stream",
     "text": [
      "Using TensorFlow backend.\n"
     ]
    }
   ],
   "source": [
    "import numpy as np\n",
    "from numpy import array\n",
    "import pandas as pd\n",
    "import matplotlib.pyplot as plt\n",
    "%matplotlib inline\n",
    "import string\n",
    "import os\n",
    "from os import listdir\n",
    "from PIL import Image\n",
    "import glob\n",
    "from pickle import dump, load\n",
    "from time import time\n",
    "from keras.preprocessing import sequence\n",
    "from keras.models import Sequential\n",
    "from keras.layers import LSTM, Embedding, TimeDistributed, Dense, RepeatVector,\\\n",
    "                         Activation, Flatten, Reshape, concatenate, Dropout, BatchNormalization\n",
    "from keras.optimizers import Adam, RMSprop\n",
    "from keras.layers.wrappers import Bidirectional\n",
    "from keras.layers.merge import add\n",
    "from keras.applications.inception_v3 import InceptionV3\n",
    "from keras.preprocessing import image\n",
    "from keras.preprocessing.image import load_img\n",
    "from keras.preprocessing.image import img_to_array\n",
    "from keras.models import Model\n",
    "from keras import Input, layers\n",
    "from keras import optimizers\n",
    "from keras.applications.inception_v3 import preprocess_input\n",
    "from keras.preprocessing.text import Tokenizer\n",
    "from keras.preprocessing.sequence import pad_sequences\n",
    "from keras.utils import to_categorical\n",
    "from keras.applications import imagenet_utils\n",
    "from keras.models import load_model\n",
    "from nltk.translate.bleu_score import corpus_bleu\n",
    "from os import listdir"
   ]
  },
  {
   "cell_type": "code",
   "execution_count": 2,
   "metadata": {},
   "outputs": [],
   "source": [
    "def load_doc(filename):\n",
    "    file = open(filename,'r')\n",
    "    text = file.read()\n",
    "    return text"
   ]
  },
  {
   "cell_type": "code",
   "execution_count": 3,
   "metadata": {},
   "outputs": [],
   "source": [
    "# load a pre-defined list of photo identifiers\n",
    "def load_set(filename):\n",
    "    doc = load_doc(filename)\n",
    "    dataset = list()\n",
    "    # process line by line\n",
    "    for line in doc.split('\\n'):\n",
    "        # skip empty lines\n",
    "        if len(line) < 1:\n",
    "            continue\n",
    "        # get the image identifier\n",
    "        identifier = line.split('.')[0]\n",
    "        dataset.append(identifier)\n",
    "    return (dataset)"
   ]
  },
  {
   "cell_type": "code",
   "execution_count": 4,
   "metadata": {},
   "outputs": [
    {
     "name": "stdout",
     "output_type": "stream",
     "text": [
      "Train-Dataset: 6000\n"
     ]
    }
   ],
   "source": [
    "# load training dataset (6K)\n",
    "train_text_filename = 'Flickr8k_text/Flickr_8k.trainImages.txt'\n",
    "train = load_set(train_text_filename)\n",
    "print('Train-Dataset: %d' % len(train))"
   ]
  },
  {
   "cell_type": "code",
   "execution_count": 5,
   "metadata": {},
   "outputs": [
    {
     "name": "stdout",
     "output_type": "stream",
     "text": [
      "Descriptions: train=6000\n"
     ]
    }
   ],
   "source": [
    "# load clean descriptions into memory\n",
    "def load_clean_descriptions(filename, dataset):\n",
    "    # load document\n",
    "    doc = load_doc(filename)\n",
    "    descriptions = dict()\n",
    "    for line in doc.split('\\n'):\n",
    "        # split line by white space\n",
    "        tokens = line.split()\n",
    "        # split id from description\n",
    "        image_id, image_desc = tokens[0], tokens[1:]\n",
    "        # skip images not in the set\n",
    "        if image_id in dataset:\n",
    "            # create list\n",
    "            if image_id not in descriptions:\n",
    "                descriptions[image_id] = list()\n",
    "            # wrap description in tokens\n",
    "            desc = 'startseq ' + ' '.join(image_desc) + ' endseq'\n",
    "            # store\n",
    "            descriptions[image_id].append(desc)\n",
    "    return descriptions\n",
    "\n",
    "# descriptions\n",
    "train_descriptions = load_clean_descriptions('descriptions.txt', train)\n",
    "print('Descriptions: train=%d' % len(train_descriptions))"
   ]
  },
  {
   "cell_type": "code",
   "execution_count": 6,
   "metadata": {},
   "outputs": [
    {
     "data": {
      "text/plain": [
       "\"\\nmodel_weights_list=listdir('VGG16_models')\\nprint('total number of model weights: ',len(model_weights_list))\\ndir ='VGG16_models'\\nfor mod in listdir(dir):\\n    dest = dir+'/'+mod[-6:]\\n    src  = dir+'/'+mod\\n    print(src,'  -  ',dest)\\n    os.rename(src,dest)\\n\""
      ]
     },
     "execution_count": 6,
     "metadata": {},
     "output_type": "execute_result"
    }
   ],
   "source": [
    "'''\n",
    "model_weights_list=listdir('VGG16_models')\n",
    "print('total number of model weights: ',len(model_weights_list))\n",
    "dir ='VGG16_models'\n",
    "for mod in listdir(dir):\n",
    "    dest = dir+'/'+mod[-6:]\n",
    "    src  = dir+'/'+mod\n",
    "    print(src,'  -  ',dest)\n",
    "    os.rename(src,dest)\n",
    "'''"
   ]
  },
  {
   "cell_type": "code",
   "execution_count": 7,
   "metadata": {},
   "outputs": [
    {
     "name": "stdout",
     "output_type": "stream",
     "text": [
      "Dataset: 1000\n"
     ]
    }
   ],
   "source": [
    "filename = 'Flickr8k_text/Flickr_8k.testImages.txt'\n",
    "test = load_set(filename)\n",
    "print('Dataset: %d' % len(test))"
   ]
  },
  {
   "cell_type": "code",
   "execution_count": 8,
   "metadata": {},
   "outputs": [
    {
     "name": "stdout",
     "output_type": "stream",
     "text": [
      "Descriptions: test=1000\n"
     ]
    }
   ],
   "source": [
    "test_descriptions = load_clean_descriptions('descriptions.txt', test)\n",
    "print('Descriptions: test=%d' % len(test_descriptions))"
   ]
  },
  {
   "cell_type": "code",
   "execution_count": 9,
   "metadata": {},
   "outputs": [],
   "source": [
    "def load_photo_features(filename, dataset):\n",
    "    # load all features\n",
    "    features = load(open(filename, 'rb'))\n",
    "    # filter features\n",
    "    return features"
   ]
  },
  {
   "cell_type": "code",
   "execution_count": 10,
   "metadata": {},
   "outputs": [
    {
     "name": "stdout",
     "output_type": "stream",
     "text": [
      "Photos: test=1000\n"
     ]
    }
   ],
   "source": [
    "test_features = load_photo_features('encoded_test_images.pkl', test)\n",
    "print('Photos: test=%d' % len(test_features))"
   ]
  },
  {
   "cell_type": "code",
   "execution_count": 11,
   "metadata": {},
   "outputs": [],
   "source": [
    "wordtoix= load(open('w2i.pkl','rb'))"
   ]
  },
  {
   "cell_type": "code",
   "execution_count": 12,
   "metadata": {},
   "outputs": [],
   "source": [
    "ixtoword= load(open('i2w.pkl','rb'))"
   ]
  },
  {
   "cell_type": "code",
   "execution_count": 13,
   "metadata": {},
   "outputs": [],
   "source": [
    "with open(\"encoded_test_images.pkl\", \"rb\") as encoded_pickle:\n",
    "    encoding_test = load(encoded_pickle)"
   ]
  },
  {
   "cell_type": "code",
   "execution_count": 14,
   "metadata": {},
   "outputs": [],
   "source": [
    "def greedySearch(photo):\n",
    "    in_text = 'startseq'\n",
    "    for i in range(34):\n",
    "        sequence = [wordtoix[w] for w in in_text.split() if w in wordtoix]\n",
    "        sequence = pad_sequences([sequence], maxlen=34)\n",
    "        yhat = model.predict([photo,sequence], verbose=0)\n",
    "        yhat = np.argmax(yhat)\n",
    "        word = ixtoword[yhat]\n",
    "        in_text += ' ' + word\n",
    "        if word == 'endseq':\n",
    "            break\n",
    "    final = in_text.split()\n",
    "    final = final[1:-1]\n",
    "    final = ' '.join(final)\n",
    "    return final\n"
   ]
  },
  {
   "cell_type": "code",
   "execution_count": 22,
   "metadata": {},
   "outputs": [
    {
     "name": "stdout",
     "output_type": "stream",
     "text": [
      "25\n",
      "model name =  199.h5 :  1 / 25\n",
      "WARNING:tensorflow:From /home/hemanth/anaconda3/envs/py3/lib/python3.7/site-packages/tensorflow/python/framework/op_def_library.py:263: colocate_with (from tensorflow.python.framework.ops) is deprecated and will be removed in a future version.\n",
      "Instructions for updating:\n",
      "Colocations handled automatically by placer.\n",
      "WARNING:tensorflow:From /home/hemanth/anaconda3/envs/py3/lib/python3.7/site-packages/keras/backend/tensorflow_backend.py:3445: calling dropout (from tensorflow.python.ops.nn_ops) with keep_prob is deprecated and will be removed in a future version.\n",
      "Instructions for updating:\n",
      "Please use `rate` instead of `keep_prob`. Rate should be set to `rate = 1 - keep_prob`.\n",
      "WARNING:tensorflow:From /home/hemanth/anaconda3/envs/py3/lib/python3.7/site-packages/tensorflow/python/ops/math_ops.py:3066: to_int32 (from tensorflow.python.ops.math_ops) is deprecated and will be removed in a future version.\n",
      "Instructions for updating:\n",
      "Use tf.cast instead.\n",
      "1000BLEU -1:  0.41165593669249867\n",
      "BLEU -2:  0.2143678904363477\n",
      "BLEU -3:  0.129838203540994\n",
      "BLEU -4:  0.050454075379330623\n",
      "\n",
      "Time taken for  1 th  model  90.88747668266296\n",
      "model name =  403.h5 :  2 / 25\n",
      "1000BLEU -1:  0.393349631938605\n",
      "BLEU -2:  0.21496328787735008\n",
      "BLEU -3:  0.14564050760597394\n",
      "BLEU -4:  0.062784662720975\n",
      "\n",
      "Time taken for  2 th  model  96.66139054298401\n",
      "model name =  408.h5 :  3 / 25\n",
      "1000BLEU -1:  0.3927425440602189\n",
      "BLEU -2:  0.2156248899861395\n",
      "BLEU -3:  0.1449201475963015\n",
      "BLEU -4:  0.06200655110162312\n",
      "\n",
      "Time taken for  3 th  model  101.30207443237305\n",
      "model name =  411.h5 :  4 / 25\n",
      "1000BLEU -1:  0.3928057664693367\n",
      "BLEU -2:  0.21579744945231102\n",
      "BLEU -3:  0.146327834628913\n",
      "BLEU -4:  0.06289237491084212\n",
      "\n",
      "Time taken for  4 th  model  102.57107377052307\n",
      "model name =  416.h5 :  5 / 25\n",
      "1000BLEU -1:  0.3942847812874774\n",
      "BLEU -2:  0.21602533846115374\n",
      "BLEU -3:  0.14563068432877438\n",
      "BLEU -4:  0.062434863411325175\n",
      "\n",
      "Time taken for  5 th  model  102.69999837875366\n"
     ]
    }
   ],
   "source": [
    "# evaluate the skill of the model\n",
    "import sys\n",
    "def evaluate_mod(x, model, descriptions, photos, max_length):\n",
    "    actual, predicted = list(), list()\n",
    "    # step over the whole set\n",
    "    a=0\n",
    "    for key, desc_list in descriptions.items():\n",
    "        # generate description---------------------------------------------------------\n",
    "        a=a+1\n",
    "        sys.stdout.write('\\r'+str(a))\n",
    "        sys.stdout.flush()\n",
    "        re_key=key+'.jpg'\n",
    "        image = encoding_test[re_key].reshape((1,4096))\n",
    "        yhat=greedySearch(image)\n",
    "                \n",
    "        # store actual and predicted------------------------------------------------------------\n",
    "        references = [d.split() for d in desc_list]\n",
    "        actual.append(references)\n",
    "        predicted.append(yhat.split())\n",
    "        \n",
    "    a = corpus_bleu(actual, predicted, weights=(1.0, 0, 0, 0))\n",
    "    b = corpus_bleu(actual, predicted, weights=(0.5, 0.5, 0, 0))\n",
    "    c = corpus_bleu(actual, predicted, weights=(0.3, 0.3, 0.3, 0))\n",
    "    d = corpus_bleu(actual, predicted, weights=(0.25, 0.25, 0.25, 0.25))\n",
    "    print('BLEU -1: ',a)\n",
    "    print('BLEU -2: ',b)\n",
    "    print('BLEU -3: ',c)\n",
    "    print('BLEU -4: ',d)\n",
    "    \n",
    "\n",
    "    return ([a,b,c,d])\n",
    "\n",
    "a=0\n",
    "li=list()\n",
    "direc='VGG16_models'\n",
    "# sort the files\n",
    "all_weights=sorted(listdir(direc))\n",
    "print(len(all_weights))\n",
    "\n",
    "for modwei in all_weights[:-20]:\n",
    "    a=a+1\n",
    "    print('model name = ',modwei,': ',a,'/',len(listdir(direc)))\n",
    "    modwei='VGG16_models/'+modwei\n",
    "    model=load_model(modwei)\n",
    "    start = time()\n",
    "    li.append(evaluate_mod(str(a),model, test_descriptions, test_features, max_length=34))\n",
    "    print('\\nTime taken for ',a,'th  model ', time()-start)"
   ]
  },
  {
   "cell_type": "code",
   "execution_count": 23,
   "metadata": {},
   "outputs": [
    {
     "name": "stdout",
     "output_type": "stream",
     "text": [
      "25\n",
      "model name =  417.h5 :  1 / 25\n",
      "1000BLEU -1:  0.3986268694117269\n",
      "BLEU -2:  0.21752380715597436\n",
      "BLEU -3:  0.1465890211062383\n",
      "BLEU -4:  0.06388277433140901\n",
      "\n",
      "Time taken for  1 th  model  100.86240863800049\n",
      "model name =  424.h5 :  2 / 25\n",
      "1000BLEU -1:  0.3968702162407838\n",
      "BLEU -2:  0.21933625582815405\n",
      "BLEU -3:  0.1498434385712965\n",
      "BLEU -4:  0.06556295385256908\n",
      "\n",
      "Time taken for  2 th  model  100.5989396572113\n",
      "model name =  429.h5 :  3 / 25\n",
      "1000BLEU -1:  0.3985142891618183\n",
      "BLEU -2:  0.21718355482366294\n",
      "BLEU -3:  0.14671802070144108\n",
      "BLEU -4:  0.06299208808593679\n",
      "\n",
      "Time taken for  3 th  model  100.41246438026428\n",
      "model name =  437.h5 :  4 / 25\n",
      "1000BLEU -1:  0.39692709115004415\n",
      "BLEU -2:  0.2177289819013013\n",
      "BLEU -3:  0.14757505019285233\n",
      "BLEU -4:  0.06321944023152055\n",
      "\n",
      "Time taken for  4 th  model  102.38078880310059\n",
      "model name =  440.h5 :  5 / 25\n",
      "1000BLEU -1:  0.3961441981640572\n",
      "BLEU -2:  0.21440758939745658\n",
      "BLEU -3:  0.14473660627134247\n",
      "BLEU -4:  0.062495397115417475\n",
      "\n",
      "Time taken for  5 th  model  105.3165352344513\n",
      "model name =  451.h5 :  6 / 25\n",
      "1000BLEU -1:  0.39499450680107245\n",
      "BLEU -2:  0.21512729613985482\n",
      "BLEU -3:  0.14641444863828318\n",
      "BLEU -4:  0.06389242405975862\n",
      "\n",
      "Time taken for  6 th  model  102.02320122718811\n",
      "model name =  457.h5 :  7 / 25\n",
      "1000BLEU -1:  0.39122320369530184\n",
      "BLEU -2:  0.21226832044074379\n",
      "BLEU -3:  0.14063479498095352\n",
      "BLEU -4:  0.05864561771976978\n",
      "\n",
      "Time taken for  7 th  model  101.65886807441711\n",
      "model name =  468.h5 :  8 / 25\n",
      "1000BLEU -1:  0.39925901162550664\n",
      "BLEU -2:  0.2210247893762948\n",
      "BLEU -3:  0.1514943575848112\n",
      "BLEU -4:  0.06636550343528982\n",
      "\n",
      "Time taken for  8 th  model  101.5704939365387\n",
      "model name =  483.h5 :  9 / 25\n",
      "1000BLEU -1:  0.39282790296628023\n",
      "BLEU -2:  0.21654685502637197\n",
      "BLEU -3:  0.14740885173888196\n",
      "BLEU -4:  0.06346304272912885\n",
      "\n",
      "Time taken for  9 th  model  102.99392700195312\n",
      "model name =  496.h5 :  10 / 25\n",
      "1000BLEU -1:  0.3840432724936272\n",
      "BLEU -2:  0.21013623134889312\n",
      "BLEU -3:  0.14193362723249114\n",
      "BLEU -4:  0.05961861662410179\n",
      "\n",
      "Time taken for  10 th  model  108.38612008094788\n"
     ]
    }
   ],
   "source": [
    "# evaluate the skill of the model\n",
    "import sys\n",
    "def evaluate_mod(x, model, descriptions, photos, max_length):\n",
    "    actual, predicted = list(), list()\n",
    "    # step over the whole set\n",
    "    a=0\n",
    "    for key, desc_list in descriptions.items():\n",
    "        # generate description---------------------------------------------------------\n",
    "        a=a+1\n",
    "        sys.stdout.write('\\r'+str(a))\n",
    "        sys.stdout.flush()\n",
    "        re_key=key+'.jpg'\n",
    "        image = encoding_test[re_key].reshape((1,4096))\n",
    "        yhat=greedySearch(image)\n",
    "                \n",
    "        # store actual and predicted------------------------------------------------------------\n",
    "        references = [d.split() for d in desc_list]\n",
    "        actual.append(references)\n",
    "        predicted.append(yhat.split())\n",
    "        \n",
    "    a = corpus_bleu(actual, predicted, weights=(1.0, 0, 0, 0))\n",
    "    b = corpus_bleu(actual, predicted, weights=(0.5, 0.5, 0, 0))\n",
    "    c = corpus_bleu(actual, predicted, weights=(0.3, 0.3, 0.3, 0))\n",
    "    d = corpus_bleu(actual, predicted, weights=(0.25, 0.25, 0.25, 0.25))\n",
    "    print('BLEU -1: ',a)\n",
    "    print('BLEU -2: ',b)\n",
    "    print('BLEU -3: ',c)\n",
    "    print('BLEU -4: ',d)\n",
    "    \n",
    "\n",
    "    return ([a,b,c,d])\n",
    "\n",
    "a=0\n",
    "li=list()\n",
    "direc='VGG16_models'\n",
    "# sort the files\n",
    "all_weights=sorted(listdir(direc))\n",
    "print(len(all_weights))\n",
    "\n",
    "for modwei in all_weights[5:-10]:\n",
    "    a=a+1\n",
    "    print('model name = ',modwei,': ',a,'/',len(listdir(direc)))\n",
    "    modwei='VGG16_models/'+modwei\n",
    "    model=load_model(modwei)\n",
    "    start = time()\n",
    "    li.append(evaluate_mod(str(a),model, test_descriptions, test_features, max_length=34))\n",
    "    print('\\nTime taken for ',a,'th  model ', time()-start)"
   ]
  },
  {
   "cell_type": "code",
   "execution_count": 24,
   "metadata": {},
   "outputs": [],
   "source": [
    "with open('max_score_vgg16.pkl','wb') as pik:\n",
    "    dump(li,pik)"
   ]
  },
  {
   "cell_type": "code",
   "execution_count": 25,
   "metadata": {},
   "outputs": [],
   "source": [
    "scores = load(open('max_score_vgg16.pkl','rb'))\n",
    "y=scores"
   ]
  },
  {
   "cell_type": "code",
   "execution_count": 26,
   "metadata": {},
   "outputs": [],
   "source": [
    "\n",
    "y1=list()\n",
    "y2=list()\n",
    "y3=list()\n",
    "y4=list()\n",
    "for i in y:\n",
    "    y1.append(round(i[0],7)) \n",
    "    y2.append(round(i[1],7))\n",
    "    y3.append(round(i[2],7))\n",
    "    y4.append(round(i[3],7))"
   ]
  },
  {
   "cell_type": "code",
   "execution_count": 29,
   "metadata": {},
   "outputs": [
    {
     "data": {
      "image/png": "[encoded data removed]",
      "text/plain": [
       "<Figure size 1440x720 with 1 Axes>"
      ]
     },
     "metadata": {},
     "output_type": "display_data"
    }
   ],
   "source": [
    "x=list(range(1,11))\n",
    "plt.style.use(\"ggplot\")\n",
    "fig= plt.figure(figsize=(20,10))\n",
    "plt.plot(x,y1,label='BLEU - 1')\n",
    "plt.plot(x,y2,label='BLEU - 2')\n",
    "plt.plot(x,y3,label='BLEU - 3')\n",
    "plt.plot(x,y4,label='BLEU - 4')\n",
    "plt.title('BLEU SCORE results')\n",
    "plt.xlabel('scores')\n",
    "plt.ylabel('models')\n",
    "plt.legend()\n",
    "plt.show()"
   ]
  },
  {
   "cell_type": "code",
   "execution_count": 68,
   "metadata": {},
   "outputs": [
    {
     "name": "stdout",
     "output_type": "stream",
     "text": [
      "model name =  447.h5 :  1 / 35\n",
      "1000BLEU -1:  0.38631588585121435\n",
      "BLEU -2:  0.21813058378346606\n",
      "BLEU -3:  0.14980248408812954\n",
      "BLEU -4:  0.06517355825535046\n",
      "\n",
      "Time taken for  1 th  model  101.07127594947815\n",
      "model name =  552.h5 :  2 / 35\n",
      "1000BLEU -1:  0.3984993072891696\n",
      "BLEU -2:  0.2216439503924161\n",
      "BLEU -3:  0.1498223557742688\n",
      "BLEU -4:  0.0650332920765486\n",
      "\n",
      "Time taken for  2 th  model  102.98303627967834\n",
      "model name =  772.h5 :  3 / 35\n",
      "1000BLEU -1:  0.39467543025744484\n",
      "BLEU -2:  0.2194630529859891\n",
      "BLEU -3:  0.14504952021772913\n",
      "BLEU -4:  0.061010968365284565\n",
      "\n",
      "Time taken for  3 th  model  103.68109202384949\n",
      "model name =  454.h5 :  4 / 35\n",
      "1000BLEU -1:  0.3890825744435903\n",
      "BLEU -2:  0.22124682456485922\n",
      "BLEU -3:  0.1522006895295568\n",
      "BLEU -4:  0.06707166877403954\n",
      "\n",
      "Time taken for  4 th  model  100.02858924865723\n",
      "model name =  503.h5 :  5 / 35\n",
      "1000BLEU -1:  0.3989916711068241\n",
      "BLEU -2:  0.22364343462610486\n",
      "BLEU -3:  0.15138425005757428\n",
      "BLEU -4:  0.06149097845024109\n",
      "\n",
      "Time taken for  5 th  model  105.51129102706909\n",
      "model name =  997.h5 :  6 / 35\n",
      "1000BLEU -1:  0.39899610233970745\n",
      "BLEU -2:  0.21954473725532803\n",
      "BLEU -3:  0.14056495568707061\n",
      "BLEU -4:  0.059046078551976446\n",
      "\n",
      "Time taken for  6 th  model  96.07271337509155\n",
      "model name =  523.h5 :  7 / 35\n",
      "1000BLEU -1:  0.3972583072140429\n",
      "BLEU -2:  0.22137078361578283\n",
      "BLEU -3:  0.14979077373209745\n",
      "BLEU -4:  0.06086169861837952\n",
      "\n",
      "Time taken for  7 th  model  106.96786594390869\n",
      "model name =  515.h5 :  8 / 35\n",
      "1000BLEU -1:  0.38665218234790777\n",
      "BLEU -2:  0.2164711848904597\n",
      "BLEU -3:  0.1470731591038959\n",
      "BLEU -4:  0.06313145733656966\n",
      "\n",
      "Time taken for  8 th  model  105.63856959342957\n",
      "model name =  703.h5 :  9 / 35\n",
      "1000BLEU -1:  0.3974653233657509\n",
      "BLEU -2:  0.2194638030134951\n",
      "BLEU -3:  0.14487912574635273\n",
      "BLEU -4:  0.06109301280640045\n",
      "\n",
      "Time taken for  9 th  model  104.36373782157898\n",
      "model name =  854.h5 :  10 / 35\n",
      "1000BLEU -1:  0.4135572865223582\n",
      "BLEU -2:  0.22751864109923442\n",
      "BLEU -3:  0.1462102805967719\n",
      "BLEU -4:  0.061908718816732856\n",
      "\n",
      "Time taken for  10 th  model  98.64874744415283\n",
      "model name =  761.h5 :  11 / 35\n",
      "1000BLEU -1:  0.4082463755917092\n",
      "BLEU -2:  0.22347119674870916\n",
      "BLEU -3:  0.14537426436616707\n",
      "BLEU -4:  0.06032623508927415\n",
      "\n",
      "Time taken for  11 th  model  103.45790123939514\n",
      "model name =  980.h5 :  12 / 35\n",
      "1000BLEU -1:  0.39449048878014953\n",
      "BLEU -2:  0.21684388710262367\n",
      "BLEU -3:  0.13775431221447135\n",
      "BLEU -4:  0.05770729002756362\n",
      "\n",
      "Time taken for  12 th  model  95.58059024810791\n",
      "model name =  442.h5 :  13 / 35\n",
      "1000BLEU -1:  0.3884466896596832\n",
      "BLEU -2:  0.22110201867585474\n",
      "BLEU -3:  0.1521203545706347\n",
      "BLEU -4:  0.06656407127576655\n",
      "\n",
      "Time taken for  13 th  model  102.74749445915222\n",
      "model name =  486.h5 :  14 / 35\n",
      "700"
     ]
    },
    {
     "ename": "KeyboardInterrupt",
     "evalue": "",
     "output_type": "error",
     "traceback": [
      "\u001b[0;31m---------------------------------------------------------------------------\u001b[0m",
      "\u001b[0;31mKeyboardInterrupt\u001b[0m                         Traceback (most recent call last)",
      "\u001b[0;32m<ipython-input-68-a94791209d56>\u001b[0m in \u001b[0;36m<module>\u001b[0;34m\u001b[0m\n\u001b[1;32m     41\u001b[0m     \u001b[0mmodel\u001b[0m\u001b[0;34m=\u001b[0m\u001b[0mload_model\u001b[0m\u001b[0;34m(\u001b[0m\u001b[0mmodwei\u001b[0m\u001b[0;34m)\u001b[0m\u001b[0;34m\u001b[0m\u001b[0;34m\u001b[0m\u001b[0m\n\u001b[1;32m     42\u001b[0m     \u001b[0mstart\u001b[0m \u001b[0;34m=\u001b[0m \u001b[0mtime\u001b[0m\u001b[0;34m(\u001b[0m\u001b[0;34m)\u001b[0m\u001b[0;34m\u001b[0m\u001b[0;34m\u001b[0m\u001b[0m\n\u001b[0;32m---> 43\u001b[0;31m     \u001b[0mli\u001b[0m\u001b[0;34m.\u001b[0m\u001b[0mappend\u001b[0m\u001b[0;34m(\u001b[0m\u001b[0mevaluate_mod\u001b[0m\u001b[0;34m(\u001b[0m\u001b[0mstr\u001b[0m\u001b[0;34m(\u001b[0m\u001b[0ma\u001b[0m\u001b[0;34m)\u001b[0m\u001b[0;34m,\u001b[0m\u001b[0mmodel\u001b[0m\u001b[0;34m,\u001b[0m \u001b[0mtest_descriptions\u001b[0m\u001b[0;34m,\u001b[0m \u001b[0mtest_features\u001b[0m\u001b[0;34m,\u001b[0m \u001b[0mmax_length\u001b[0m\u001b[0;34m=\u001b[0m\u001b[0;36m34\u001b[0m\u001b[0;34m)\u001b[0m\u001b[0;34m)\u001b[0m\u001b[0;34m\u001b[0m\u001b[0;34m\u001b[0m\u001b[0m\n\u001b[0m\u001b[1;32m     44\u001b[0m     \u001b[0mprint\u001b[0m\u001b[0;34m(\u001b[0m\u001b[0;34m'\\nTime taken for '\u001b[0m\u001b[0;34m,\u001b[0m\u001b[0ma\u001b[0m\u001b[0;34m,\u001b[0m\u001b[0;34m'th  model '\u001b[0m\u001b[0;34m,\u001b[0m \u001b[0mtime\u001b[0m\u001b[0;34m(\u001b[0m\u001b[0;34m)\u001b[0m\u001b[0;34m-\u001b[0m\u001b[0mstart\u001b[0m\u001b[0;34m)\u001b[0m\u001b[0;34m\u001b[0m\u001b[0;34m\u001b[0m\u001b[0m\n",
      "\u001b[0;32m<ipython-input-68-a94791209d56>\u001b[0m in \u001b[0;36mevaluate_mod\u001b[0;34m(x, model, descriptions, photos, max_length)\u001b[0m\n\u001b[1;32m     12\u001b[0m         \u001b[0mre_key\u001b[0m\u001b[0;34m=\u001b[0m\u001b[0mkey\u001b[0m\u001b[0;34m+\u001b[0m\u001b[0;34m'.jpg'\u001b[0m\u001b[0;34m\u001b[0m\u001b[0;34m\u001b[0m\u001b[0m\n\u001b[1;32m     13\u001b[0m         \u001b[0mimage\u001b[0m \u001b[0;34m=\u001b[0m \u001b[0mencoding_test\u001b[0m\u001b[0;34m[\u001b[0m\u001b[0mre_key\u001b[0m\u001b[0;34m]\u001b[0m\u001b[0;34m.\u001b[0m\u001b[0mreshape\u001b[0m\u001b[0;34m(\u001b[0m\u001b[0;34m(\u001b[0m\u001b[0;36m1\u001b[0m\u001b[0;34m,\u001b[0m\u001b[0;36m4096\u001b[0m\u001b[0;34m)\u001b[0m\u001b[0;34m)\u001b[0m\u001b[0;34m\u001b[0m\u001b[0;34m\u001b[0m\u001b[0m\n\u001b[0;32m---> 14\u001b[0;31m         \u001b[0myhat\u001b[0m\u001b[0;34m=\u001b[0m\u001b[0mgreedySearch\u001b[0m\u001b[0;34m(\u001b[0m\u001b[0mimage\u001b[0m\u001b[0;34m)\u001b[0m\u001b[0;34m\u001b[0m\u001b[0;34m\u001b[0m\u001b[0m\n\u001b[0m\u001b[1;32m     15\u001b[0m \u001b[0;34m\u001b[0m\u001b[0m\n\u001b[1;32m     16\u001b[0m         \u001b[0;31m# store actual and predicted------------------------------------------------------------\u001b[0m\u001b[0;34m\u001b[0m\u001b[0;34m\u001b[0m\u001b[0;34m\u001b[0m\u001b[0m\n",
      "\u001b[0;32m<ipython-input-36-f11e75193fb2>\u001b[0m in \u001b[0;36mgreedySearch\u001b[0;34m(photo)\u001b[0m\n\u001b[1;32m      4\u001b[0m         \u001b[0msequence\u001b[0m \u001b[0;34m=\u001b[0m \u001b[0;34m[\u001b[0m\u001b[0mwordtoix\u001b[0m\u001b[0;34m[\u001b[0m\u001b[0mw\u001b[0m\u001b[0;34m]\u001b[0m \u001b[0;32mfor\u001b[0m \u001b[0mw\u001b[0m \u001b[0;32min\u001b[0m \u001b[0min_text\u001b[0m\u001b[0;34m.\u001b[0m\u001b[0msplit\u001b[0m\u001b[0;34m(\u001b[0m\u001b[0;34m)\u001b[0m \u001b[0;32mif\u001b[0m \u001b[0mw\u001b[0m \u001b[0;32min\u001b[0m \u001b[0mwordtoix\u001b[0m\u001b[0;34m]\u001b[0m\u001b[0;34m\u001b[0m\u001b[0;34m\u001b[0m\u001b[0m\n\u001b[1;32m      5\u001b[0m         \u001b[0msequence\u001b[0m \u001b[0;34m=\u001b[0m \u001b[0mpad_sequences\u001b[0m\u001b[0;34m(\u001b[0m\u001b[0;34m[\u001b[0m\u001b[0msequence\u001b[0m\u001b[0;34m]\u001b[0m\u001b[0;34m,\u001b[0m \u001b[0mmaxlen\u001b[0m\u001b[0;34m=\u001b[0m\u001b[0;36m34\u001b[0m\u001b[0;34m)\u001b[0m\u001b[0;34m\u001b[0m\u001b[0;34m\u001b[0m\u001b[0m\n\u001b[0;32m----> 6\u001b[0;31m         \u001b[0myhat\u001b[0m \u001b[0;34m=\u001b[0m \u001b[0mmodel\u001b[0m\u001b[0;34m.\u001b[0m\u001b[0mpredict\u001b[0m\u001b[0;34m(\u001b[0m\u001b[0;34m[\u001b[0m\u001b[0mphoto\u001b[0m\u001b[0;34m,\u001b[0m\u001b[0msequence\u001b[0m\u001b[0;34m]\u001b[0m\u001b[0;34m,\u001b[0m \u001b[0mverbose\u001b[0m\u001b[0;34m=\u001b[0m\u001b[0;36m0\u001b[0m\u001b[0;34m)\u001b[0m\u001b[0;34m\u001b[0m\u001b[0;34m\u001b[0m\u001b[0m\n\u001b[0m\u001b[1;32m      7\u001b[0m         \u001b[0myhat\u001b[0m \u001b[0;34m=\u001b[0m \u001b[0mnp\u001b[0m\u001b[0;34m.\u001b[0m\u001b[0margmax\u001b[0m\u001b[0;34m(\u001b[0m\u001b[0myhat\u001b[0m\u001b[0;34m)\u001b[0m\u001b[0;34m\u001b[0m\u001b[0;34m\u001b[0m\u001b[0m\n\u001b[1;32m      8\u001b[0m         \u001b[0mword\u001b[0m \u001b[0;34m=\u001b[0m \u001b[0mixtoword\u001b[0m\u001b[0;34m[\u001b[0m\u001b[0myhat\u001b[0m\u001b[0;34m]\u001b[0m\u001b[0;34m\u001b[0m\u001b[0;34m\u001b[0m\u001b[0m\n",
      "\u001b[0;32m~/anaconda3/envs/py3/lib/python3.7/site-packages/keras/engine/training.py\u001b[0m in \u001b[0;36mpredict\u001b[0;34m(self, x, batch_size, verbose, steps)\u001b[0m\n\u001b[1;32m   1147\u001b[0m                              'argument.')\n\u001b[1;32m   1148\u001b[0m         \u001b[0;31m# Validate user data.\u001b[0m\u001b[0;34m\u001b[0m\u001b[0;34m\u001b[0m\u001b[0;34m\u001b[0m\u001b[0m\n\u001b[0;32m-> 1149\u001b[0;31m         \u001b[0mx\u001b[0m\u001b[0;34m,\u001b[0m \u001b[0m_\u001b[0m\u001b[0;34m,\u001b[0m \u001b[0m_\u001b[0m \u001b[0;34m=\u001b[0m \u001b[0mself\u001b[0m\u001b[0;34m.\u001b[0m\u001b[0m_standardize_user_data\u001b[0m\u001b[0;34m(\u001b[0m\u001b[0mx\u001b[0m\u001b[0;34m)\u001b[0m\u001b[0;34m\u001b[0m\u001b[0;34m\u001b[0m\u001b[0m\n\u001b[0m\u001b[1;32m   1150\u001b[0m         \u001b[0;32mif\u001b[0m \u001b[0mself\u001b[0m\u001b[0;34m.\u001b[0m\u001b[0mstateful\u001b[0m\u001b[0;34m:\u001b[0m\u001b[0;34m\u001b[0m\u001b[0;34m\u001b[0m\u001b[0m\n\u001b[1;32m   1151\u001b[0m             \u001b[0;32mif\u001b[0m \u001b[0mx\u001b[0m\u001b[0;34m[\u001b[0m\u001b[0;36m0\u001b[0m\u001b[0;34m]\u001b[0m\u001b[0;34m.\u001b[0m\u001b[0mshape\u001b[0m\u001b[0;34m[\u001b[0m\u001b[0;36m0\u001b[0m\u001b[0;34m]\u001b[0m \u001b[0;34m>\u001b[0m \u001b[0mbatch_size\u001b[0m \u001b[0;32mand\u001b[0m \u001b[0mx\u001b[0m\u001b[0;34m[\u001b[0m\u001b[0;36m0\u001b[0m\u001b[0;34m]\u001b[0m\u001b[0;34m.\u001b[0m\u001b[0mshape\u001b[0m\u001b[0;34m[\u001b[0m\u001b[0;36m0\u001b[0m\u001b[0;34m]\u001b[0m \u001b[0;34m%\u001b[0m \u001b[0mbatch_size\u001b[0m \u001b[0;34m!=\u001b[0m \u001b[0;36m0\u001b[0m\u001b[0;34m:\u001b[0m\u001b[0;34m\u001b[0m\u001b[0;34m\u001b[0m\u001b[0m\n",
      "\u001b[0;32m~/anaconda3/envs/py3/lib/python3.7/site-packages/keras/engine/training.py\u001b[0m in \u001b[0;36m_standardize_user_data\u001b[0;34m(self, x, y, sample_weight, class_weight, check_array_lengths, batch_size)\u001b[0m\n\u001b[1;32m    648\u001b[0m                                batch_size=None):\n\u001b[1;32m    649\u001b[0m         \u001b[0mall_inputs\u001b[0m \u001b[0;34m=\u001b[0m \u001b[0;34m[\u001b[0m\u001b[0;34m]\u001b[0m\u001b[0;34m\u001b[0m\u001b[0;34m\u001b[0m\u001b[0m\n\u001b[0;32m--> 650\u001b[0;31m         \u001b[0;32mif\u001b[0m \u001b[0;32mnot\u001b[0m \u001b[0mself\u001b[0m\u001b[0;34m.\u001b[0m\u001b[0mbuilt\u001b[0m\u001b[0;34m:\u001b[0m\u001b[0;34m\u001b[0m\u001b[0;34m\u001b[0m\u001b[0m\n\u001b[0m\u001b[1;32m    651\u001b[0m             \u001b[0;31m# We need to use `x` to set the model inputs.\u001b[0m\u001b[0;34m\u001b[0m\u001b[0;34m\u001b[0m\u001b[0;34m\u001b[0m\u001b[0m\n\u001b[1;32m    652\u001b[0m             \u001b[0;31m# We type-check that `x` and `y` are either single arrays\u001b[0m\u001b[0;34m\u001b[0m\u001b[0;34m\u001b[0m\u001b[0;34m\u001b[0m\u001b[0m\n",
      "\u001b[0;32m~/anaconda3/envs/py3/lib/python3.7/site-packages/keras/engine/base_layer.py\u001b[0m in \u001b[0;36mbuilt\u001b[0;34m(self)\u001b[0m\n\u001b[1;32m    189\u001b[0m     \u001b[0;34m@\u001b[0m\u001b[0mproperty\u001b[0m\u001b[0;34m\u001b[0m\u001b[0;34m\u001b[0m\u001b[0m\n\u001b[1;32m    190\u001b[0m     \u001b[0;32mdef\u001b[0m \u001b[0mbuilt\u001b[0m\u001b[0;34m(\u001b[0m\u001b[0mself\u001b[0m\u001b[0;34m)\u001b[0m\u001b[0;34m:\u001b[0m\u001b[0;34m\u001b[0m\u001b[0;34m\u001b[0m\u001b[0m\n\u001b[0;32m--> 191\u001b[0;31m         \u001b[0;32mreturn\u001b[0m \u001b[0mself\u001b[0m\u001b[0;34m.\u001b[0m\u001b[0m_built\u001b[0m\u001b[0;34m\u001b[0m\u001b[0;34m\u001b[0m\u001b[0m\n\u001b[0m\u001b[1;32m    192\u001b[0m \u001b[0;34m\u001b[0m\u001b[0m\n\u001b[1;32m    193\u001b[0m     \u001b[0;34m@\u001b[0m\u001b[0mbuilt\u001b[0m\u001b[0;34m.\u001b[0m\u001b[0msetter\u001b[0m\u001b[0;34m\u001b[0m\u001b[0;34m\u001b[0m\u001b[0m\n",
      "\u001b[0;31mKeyboardInterrupt\u001b[0m: "
     ]
    }
   ],
   "source": [
    "# evaluate the skill of the model\n",
    "import sys\n",
    "def evaluate_mod(x, model, descriptions, photos, max_length):\n",
    "    actual, predicted = list(), list()\n",
    "    # step over the whole set\n",
    "    a=0\n",
    "    for key, desc_list in descriptions.items():\n",
    "        # generate description---------------------------------------------------------\n",
    "        a=a+1\n",
    "        sys.stdout.write('\\r'+str(a))\n",
    "        sys.stdout.flush()\n",
    "        re_key=key+'.jpg'\n",
    "        image = encoding_test[re_key].reshape((1,4096))\n",
    "        yhat=greedySearch(image)\n",
    "                \n",
    "        # store actual and predicted------------------------------------------------------------\n",
    "        references = [d.split() for d in desc_list]\n",
    "        actual.append(references)\n",
    "        predicted.append(yhat.split())\n",
    "        \n",
    "    a = corpus_bleu(actual, predicted, weights=(1.0, 0, 0, 0))\n",
    "    b = corpus_bleu(actual, predicted, weights=(0.5, 0.5, 0, 0))\n",
    "    c = corpus_bleu(actual, predicted, weights=(0.3, 0.3, 0.3, 0))\n",
    "    d = corpus_bleu(actual, predicted, weights=(0.25, 0.25, 0.25, 0.25))\n",
    "    print('BLEU -1: ',a)\n",
    "    print('BLEU -2: ',b)\n",
    "    print('BLEU -3: ',c)\n",
    "    print('BLEU -4: ',d)\n",
    "    \n",
    "\n",
    "    return ([a,b,c,d])\n",
    "\n",
    "a=0\n",
    "li=list()\n",
    "direc='vgg16_models'\n",
    "print\n",
    "for modwei in listdir(direc):\n",
    "    a=a+1\n",
    "    print('model name = ',modwei,': ',a,'/',len(listdir(direc)))\n",
    "    modwei='vgg16_models/'+modwei\n",
    "    model=load_model(modwei)\n",
    "    start = time()\n",
    "    li.append(evaluate_mod(str(a),model, test_descriptions, test_features, max_length=34))\n",
    "    print('\\nTime taken for ',a,'th  model ', time()-start)"
   ]
  },
  {
   "cell_type": "code",
   "execution_count": 47,
   "metadata": {},
   "outputs": [],
   "source": [
    "with open('max_score_vgg16.pkl','wb') as pik:\n",
    "    dump(li,pik)"
   ]
  },
  {
   "cell_type": "code",
   "execution_count": 48,
   "metadata": {},
   "outputs": [],
   "source": [
    "scores = load(open('max_score_vgg16.pkl','rb'))\n",
    "y=scores"
   ]
  },
  {
   "cell_type": "code",
   "execution_count": null,
   "metadata": {},
   "outputs": [],
   "source": [
    "\n",
    "y1=list()\n",
    "y2=list()\n",
    "y3=list()\n",
    "y4=list()\n",
    "for i in y:\n",
    "    y1.append(round(i[0],7)) \n",
    "    y2.append(round(i[1],7))\n",
    "    y3.append(round(i[2],7))\n",
    "    y4.append(round(i[3],7))"
   ]
  },
  {
   "cell_type": "code",
   "execution_count": null,
   "metadata": {},
   "outputs": [],
   "source": [
    "x=list(range(1,11))\n",
    "plt.style.use(\"ggplot\")\n",
    "fig= plt.figure(figsize=(30,40))\n",
    "plt.plot(x,y1,label='BLEU - 1')\n",
    "plt.plot(x,y2,label='BLEU - 2')\n",
    "plt.plot(x,y3,label='BLEU - 3')\n",
    "plt.plot(x,y4,label='BLEU - 4')\n",
    "plt.title('BLEU SCORE results')\n",
    "plt.xlabel('scores')\n",
    "plt.ylabel('models')\n",
    "plt.legend()\n",
    "plt.show()"
   ]
  },
  {
   "cell_type": "code",
   "execution_count": null,
   "metadata": {},
   "outputs": [],
   "source": [
    "'''# evaluate the skill of the model\n",
    "import sys\n",
    "def evaluate_mod(x, model, descriptions, photos, max_length):\n",
    "    actual, predicted = list(), list()\n",
    "    # step over the whole set\n",
    "    a=0\n",
    "    for key, desc_list in descriptions.items():\n",
    "        # generate description---------------------------------------------------------\n",
    "        a=a+1\n",
    "        sys.stdout.write('\\r'+str(a))\n",
    "        sys.stdout.flush()\n",
    "        re_key=key+'.jpg'\n",
    "        image = encoding_test[re_key].reshape((1,2048))\n",
    "        yhat=greedySearch(image)\n",
    "        \n",
    "        \n",
    "        # store actual and predicted------------------------------------------------------------\n",
    "        references = [d.split() for d in desc_list]\n",
    "        actual.append(references)\n",
    "        predicted.append(yhat.split())\n",
    "        \n",
    "    a = corpus_bleu(actual, predicted, weights=(1.0, 0, 0, 0))\n",
    "    b = corpus_bleu(actual, predicted, weights=(0.5, 0.5, 0, 0))\n",
    "    c = corpus_bleu(actual, predicted, weights=(0.3, 0.3, 0.3, 0))\n",
    "    d = corpus_bleu(actual, predicted, weights=(0.25, 0.25, 0.25, 0.25))\n",
    "    print('BLEU -1: ',a)\n",
    "    print('BLEU -2: ',b)\n",
    "    print('BLEU -3: ',c)\n",
    "    print('BLEU -4: ',d)\n",
    "    \n",
    "\n",
    "    return ([a,b,c,d])\n",
    "\n",
    "a=0\n",
    "li=list()\n",
    "direc='models/models/check'\n",
    "for modwei in listdir(direc):\n",
    "    a=a+1\n",
    "    print('model ',a,'/10:')\n",
    "    modwei='models/models/'+modwei\n",
    "    model=load_model(modwei)\n",
    "    start = time()\n",
    "    li.append(evaluate_mod(str(a),model, test_descriptions, test_features, max_length=34))\n",
    "    print('\\nTime taken for ',a,'th  model = ', time()-start)\n",
    "    '''"
   ]
  },
  {
   "cell_type": "code",
   "execution_count": null,
   "metadata": {},
   "outputs": [],
   "source": [
    "#with open('check_score.pkl','wb') as pik:\n",
    "#    dump(li,pik)"
   ]
  },
  {
   "cell_type": "code",
   "execution_count": null,
   "metadata": {},
   "outputs": [],
   "source": [
    "#scores = load(open('check_score.pkl','rb'))\n",
    "#y=scores"
   ]
  },
  {
   "cell_type": "code",
   "execution_count": null,
   "metadata": {},
   "outputs": [],
   "source": [
    "'''y1=list()\n",
    "y2=list()\n",
    "y3=list()\n",
    "y4=list()\n",
    "for i in y:\n",
    "    y1.append(round(i[0],7)) \n",
    "    y2.append(round(i[1],7))\n",
    "    y3.append(round(i[2],7))\n",
    "    y4.append(round(i[3],7))\n",
    "'''"
   ]
  },
  {
   "cell_type": "code",
   "execution_count": null,
   "metadata": {},
   "outputs": [],
   "source": [
    "'''\n",
    "x=list(range(1,11))\n",
    "plt.style.use(\"ggplot\")\n",
    "fig= plt.figure(figsize=(30,40))\n",
    "plt.plot(x,y1,label='BLEU - 1')\n",
    "plt.plot(x,y2,label='BLEU - 2')\n",
    "plt.plot(x,y3,label='BLEU - 3')\n",
    "plt.plot(x,y4,label='BLEU - 4')\n",
    "plt.title('BLEU SCORE results')\n",
    "plt.xlabel('scores')\n",
    "plt.ylabel('models')\n",
    "plt.legend()\n",
    "plt.show()\n",
    "'''"
   ]
  }
 ],
 "metadata": {
  "kernelspec": {
   "display_name": "Python 3",
   "language": "python",
   "name": "python3"
  },
  "language_info": {
   "codemirror_mode": {
    "name": "ipython",
    "version": 3
   },
   "file_extension": ".py",
   "mimetype": "text/x-python",
   "name": "python",
   "nbconvert_exporter": "python",
   "pygments_lexer": "ipython3",
   "version": "3.7.3"
  }
 },
 "nbformat": 4,
 "nbformat_minor": 2
}
